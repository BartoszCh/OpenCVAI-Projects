{
 "cells": [
  {
   "cell_type": "code",
   "execution_count": 10,
   "id": "b70cdfc6-c47c-441a-8f4a-58566b951033",
   "metadata": {},
   "outputs": [],
   "source": [
    "import cv2\n",
    "import numpy as np\n",
    "import heapq"
   ]
  },
  {
   "cell_type": "code",
   "execution_count": 7,
   "id": "148251c5-ecf2-4c4a-9cae-e180489f7ea8",
   "metadata": {},
   "outputs": [],
   "source": [
    "video_path = \"data/Data/kaniula1.avi\"\n",
    "\n",
    "cap = cv2.VideoCapture(video_path)\n",
    "ret, frame = cap.read()\n",
    "\n",
    "cv2.imshow(\"First Frame\", frame)\n",
    "cv2.waitKey(0)\n",
    "cv2.destroyAllWindows()\n",
    "\n",
    "cap.release()"
   ]
  },
  {
   "cell_type": "code",
   "execution_count": 20,
   "id": "f71c63de-d93f-4993-af3c-4f54ae2edfd7",
   "metadata": {},
   "outputs": [],
   "source": [
    "gray = cv2.cvtColor(frame, cv2.COLOR_BGR2GRAY)\n",
    "blurred = cv2.GaussianBlur(gray, (15, 15), 0)\n",
    "edges = cv2.Canny(blurred, 5, 10, 3)\n",
    "\n",
    "mask = np.zeros_like(edges)\n",
    "h, w = mask.shape\n",
    "cv2.circle(mask, (w // 2, h // 2), min(h, w) // 2, 255, -1)\n",
    "\n",
    "edges = cv2.bitwise_and(edges, mask)\n",
    "\n",
    "edges_neg = 255 - edges\n",
    "\n",
    "cv2.imshow(\"Original\", frame)\n",
    "cv2.imshow(\"Blurred\", blurred)\n",
    "cv2.imshow(\"Canny Edges\", edges)\n",
    "cv2.imshow(\"Negative Edges\", edges_neg)\n",
    "\n",
    "cv2.waitKey(0)\n",
    "cv2.destroyAllWindows()\n",
    "\n",
    "cap.release()"
   ]
  },
  {
   "cell_type": "code",
   "execution_count": 27,
   "id": "048fb3d5-ceae-4c18-86a6-fc208dd8ff95",
   "metadata": {},
   "outputs": [],
   "source": [
    "def dijkstra_contour(image, LEFT, RIGHT):\n",
    "    # Apply Canny edge detection\n",
    "    edges = cv2.Canny(image, 50, 150)\n",
    "\n",
    "    # Create priority queue\n",
    "    priority_queue = []\n",
    "\n",
    "    # Parameters\n",
    "    height, width = edges.shape\n",
    "    primary_mask = np.ones_like(edges, dtype=np.uint8)\n",
    "    primary_mask[height // 2:, :] = 0  # Lower half of the frame\n",
    "    primary_mask[:, :LEFT] = 0  # Left of the region of interest\n",
    "    primary_mask[:, RIGHT:] = 0  # Right of the region of interest\n",
    "\n",
    "    # Initialize distances\n",
    "    distances = np.full_like(edges, 255, dtype=np.uint8)\n",
    "    distances[edges == 255] = 0  # White pixels get a level of 255\n",
    "\n",
    "    # Initialize priority queue with pixels in the lower half of the frame and within the primary mask\n",
    "    for y in range(height // 2, height):\n",
    "        for x in range(width):\n",
    "            if primary_mask[y, x] == 1:\n",
    "                heapq.heappush(priority_queue, (distances[y, x], (y, x)))\n",
    "\n",
    "    # Dijkstra's algorithm for bottom contour\n",
    "    while priority_queue:\n",
    "        dist, (y, x) = heapq.heappop(priority_queue)\n",
    "\n",
    "        if x == LEFT:\n",
    "            break  # Stop when reaching the LEFT parameter\n",
    "\n",
    "        # Update neighbors\n",
    "        neighbors = [(y + dy, x + dx) for dy, dx in [(-1, 0), (0, -1), (0, 1), (1, 0)] if 0 <= y + dy < height and 0 <= x + dx < width]\n",
    "        for ny, nx in neighbors:\n",
    "            new_dist = dist + distances[ny, nx]\n",
    "            if new_dist < distances[ny, nx]:\n",
    "                distances[ny, nx] = new_dist\n",
    "                heapq.heappush(priority_queue, (new_dist, (ny, nx)))\n",
    "\n",
    "    # Reconstruct path to the right border of the primary mask\n",
    "    # You can customize this part based on your needs\n",
    "\n",
    "    return distances\n"
   ]
  },
  {
   "cell_type": "code",
   "execution_count": 33,
   "id": "f1408f5c-392d-4eeb-9361-1ac96e537856",
   "metadata": {},
   "outputs": [],
   "source": [
    "LEFT_PARAM = 100  # Replace with your actual parameter\n",
    "RIGHT_PARAM = 400  # Replace with your actual parameter\n",
    "\n",
    "result = dijkstra_contour(frame, LEFT_PARAM, RIGHT_PARAM)\n",
    "\n",
    "# Visualize the result or save it\n",
    "cv2.imshow('Result', result)\n",
    "cv2.waitKey(0)\n",
    "cv2.destroyAllWindows()"
   ]
  },
  {
   "cell_type": "code",
   "execution_count": null,
   "id": "bc0f98d1-f46f-4914-9ad6-565eb4112317",
   "metadata": {},
   "outputs": [],
   "source": []
  }
 ],
 "metadata": {
  "kernelspec": {
   "display_name": "Python 3 (ipykernel)",
   "language": "python",
   "name": "python3"
  },
  "language_info": {
   "codemirror_mode": {
    "name": "ipython",
    "version": 3
   },
   "file_extension": ".py",
   "mimetype": "text/x-python",
   "name": "python",
   "nbconvert_exporter": "python",
   "pygments_lexer": "ipython3",
   "version": "3.9.6"
  }
 },
 "nbformat": 4,
 "nbformat_minor": 5
}
