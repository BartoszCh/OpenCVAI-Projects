{
 "cells": [
  {
   "cell_type": "code",
   "execution_count": 1,
   "id": "510899c1-efe6-422f-b21f-2489b798aee5",
   "metadata": {},
   "outputs": [],
   "source": [
    "import cv2\n",
    "import numpy as np\n",
    "import heapq"
   ]
  },
  {
   "cell_type": "code",
   "execution_count": 2,
   "id": "cdb5421f-68fa-43e1-9bcd-d8d6661f7488",
   "metadata": {},
   "outputs": [],
   "source": [
    "# Open a video file or capture device\n",
    "video_path = 'data/Data/kaniula1.avi'  # Replace with your video file path\n",
    "cap = cv2.VideoCapture(video_path)\n",
    "\n",
    "# Read the first frame from the video\n",
    "ret, frame = cap.read()\n",
    "\n",
    "# Display the first frame\n",
    "cv2.imshow('First Frame', frame)\n",
    "cv2.waitKey(0)  # Wait until a key is pressed\n",
    "cv2.destroyAllWindows()\n",
    "\n",
    "# Release the video capture object\n",
    "cap.release()\n"
   ]
  },
  {
   "cell_type": "code",
   "execution_count": 17,
   "id": "5e33d48f-83fa-4a8d-a072-e6798d0454fe",
   "metadata": {},
   "outputs": [],
   "source": [
    "image = frame\n",
    "mask_height, mask_width = image.shape[:2]\n",
    "mask = np.zeros((mask_height, mask_width), dtype=np.uint8)\n",
    "\n",
    "mask_vertices = np.array([[mask_width*0.7, mask_height*0.3],\n",
    "                             [mask_width*0.7, mask_height*0.7],\n",
    "                             [mask_width*1.1, mask_height*3],\n",
    "                             [mask_width*1.1, 0]], dtype=np.int32)\n",
    "mask_vertices = mask_vertices.reshape((-1, 1, 2))\n",
    "\n",
    "cv2.fillPoly(mask, [mask_vertices], 255)\n",
    "\n",
    "result = cv2.bitwise_and(image, image, mask=mask)\n",
    "\n",
    "cv2.imwrite(\"result_image.jpg\", result)\n",
    "\n",
    "cv2.imshow(\"Original Image\", image)\n",
    "cv2.imshow(\"Result Image\", result)\n",
    "cv2.waitKey(0)\n",
    "cv2.destroyAllWindows()"
   ]
  },
  {
   "cell_type": "code",
   "execution_count": 18,
   "id": "38324176-78ed-4c2f-8b47-503bfcd24254",
   "metadata": {},
   "outputs": [],
   "source": [
    "def preprocess_frame(frame):\n",
    "    gray = cv2.cvtColor(frame, cv2.COLOR_BGR2GRAY)\n",
    "    \n",
    "    blurred = cv2.GaussianBlur(gray, (15, 15), 0)\n",
    "    \n",
    "    edges = cv2.Canny(blurred, 5, 10)\n",
    "    \n",
    "    return edges"
   ]
  },
  {
   "cell_type": "code",
   "execution_count": 19,
   "id": "3e1c7793-1771-47dd-9611-74bb616bae16",
   "metadata": {},
   "outputs": [],
   "source": [
    "def dijkstra_contour_detection(edges, start_coord, end_coord, mask):\n",
    "    queue = []\n",
    "    heapq.heappush(queue, (0, start_coord))\n",
    "\n",
    "    while queue:\n",
    "        distance, current = heapq.heappop(queue)\n",
    "        x, y = current\n",
    "\n",
    "        if current == end_coord:\n",
    "            break\n",
    "\n",
    "        neighbors = [(x - 1, y), (x + 1, y), (x, y - 1), (x, y + 1)]\n",
    "\n",
    "        for neighbor in neighbors:\n",
    "            nx, ny = neighbor\n",
    "            if 0 <= nx < edges.shape[1] and 0 <= ny < edges.shape[0] and mask[ny, nx]:\n",
    "                new_distance = distance + 1\n",
    "                if new_distance < edges[ny, nx]:\n",
    "                    edges[ny, nx] = new_distance\n",
    "                    heapq.heappush(queue, (new_distance, (nx, ny)))\n",
    "\n",
    "    return edges"
   ]
  },
  {
   "cell_type": "code",
   "execution_count": 22,
   "id": "64cd80a0-40e6-4c77-aa49-471151bcefe3",
   "metadata": {},
   "outputs": [],
   "source": [
    "def detect_guide_sheath_contours(frame):\n",
    "    edges = preprocess_frame(frame)\n",
    "    edges = cv2.bitwise_and(edges, np.ones_like(frame[:, :, 0], dtype=np.uint8) , mask=mask)\n",
    "    \n",
    "    contour = dijkstra_contour_detection(edges.copy(), (0, frame.shape[0] // 2), (frame.shape[1] - 1, frame.shape[0] // 2), np.ones_like(frame[:, :, 0], dtype=np.uint8))\n",
    "\n",
    "\n",
    "    cv2.imshow('Original Frame', frame)\n",
    "    cv2.imshow('Contour', contour.astype(np.uint8) * 255)\n",
    "    cv2.waitKey(0)\n",
    "    cv2.destroyAllWindows()\n",
    "    return contour.astype(np.uint8) * 255\n"
   ]
  },
  {
   "cell_type": "code",
   "execution_count": 23,
   "id": "8afbfa63-71dc-4ffd-9814-e65d8a78eea7",
   "metadata": {},
   "outputs": [],
   "source": [
    "image_contours = detect_guide_sheath_contours(frame)"
   ]
  },
  {
   "cell_type": "code",
   "execution_count": 12,
   "id": "9bf269d8-1899-446d-96d6-d0c6be7b5d60",
   "metadata": {},
   "outputs": [],
   "source": [
    "cv2.imshow(\"im\", image_contours)\n",
    "cv2.waitKey(0)\n",
    "cv2.destroyAllWindows()"
   ]
  },
  {
   "cell_type": "code",
   "execution_count": 16,
   "id": "affde796-d6fd-48ce-a2ae-3b297513b49d",
   "metadata": {},
   "outputs": [],
   "source": [
    "# Load your image\n",
    "binary_image = image_contours\n",
    "\n",
    "# Set parameters for adaptive thresholding\n",
    "BOX = 11\n",
    "OFFSET = 2\n",
    "\n",
    "# Fill Holes within Blobs using morphological operations\n",
    "kernel = cv2.getStructuringElement(cv2.MORPH_RECT, (5, 5))\n",
    "filled_image = cv2.morphologyEx(binary_image, cv2.MORPH_CLOSE, kernel)\n",
    "\n",
    "\n",
    "roi_mask = cv2.resize(mask, (image.shape[1], image.shape[0]))\n",
    "\n",
    "# Remove Blobs Outside the Mask\n",
    "result_image = cv2.bitwise_and(filled_image, roi_mask)\n",
    "\n",
    "# Display the result\n",
    "cv2.imshow('Result Image', result_image)\n",
    "cv2.waitKey(0)\n",
    "cv2.destroyAllWindows()"
   ]
  },
  {
   "cell_type": "code",
   "execution_count": null,
   "id": "d550e19a-303f-4e13-ab27-5a116f5f1b08",
   "metadata": {},
   "outputs": [],
   "source": []
  }
 ],
 "metadata": {
  "kernelspec": {
   "display_name": "Python 3 (ipykernel)",
   "language": "python",
   "name": "python3"
  },
  "language_info": {
   "codemirror_mode": {
    "name": "ipython",
    "version": 3
   },
   "file_extension": ".py",
   "mimetype": "text/x-python",
   "name": "python",
   "nbconvert_exporter": "python",
   "pygments_lexer": "ipython3",
   "version": "3.9.6"
  }
 },
 "nbformat": 4,
 "nbformat_minor": 5
}
