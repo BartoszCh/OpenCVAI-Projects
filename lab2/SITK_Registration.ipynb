{
 "cells": [
  {
   "cell_type": "code",
   "execution_count": 1,
   "id": "27d4232e",
   "metadata": {},
   "outputs": [],
   "source": [
    "#https://github.com/InsightSoftwareConsortium/SimpleITK-Notebooks/tree/master/Python\n",
    "\n",
    "#https://simpleitk.org/doxygen/latest/html/examples.html\n",
    "#https://simpleitk.org/doxygen/latest/html/ImageRegistrationMethod1_2ImageRegistrationMethod1_8py-example.html\n",
    "#https://simpleitk.org/doxygen/latest/html/ImageRegistrationMethod2_2ImageRegistrationMethod2_8py-example.html\n",
    "#https://simpleitk.org/doxygen/latest/html/ImageRegistrationMethod3_2ImageRegistrationMethod3_8py-example.html\n",
    "#https://simpleitk.org/doxygen/latest/html/ImageRegistrationMethod4_2ImageRegistrationMethod4_8py-example.html\n",
    "\n",
    "#B_spline registration\n",
    "#https://simpleitk.org/doxygen/latest/html/ImageRegistrationMethodBSpline1_2ImageRegistrationMethodBSpline1_8py-example.html\n",
    "#https://simpleitk.org/doxygen/latest/html/ImageRegistrationMethodBSpline2_2ImageRegistrationMethodBSpline2_8py-example.html\n",
    "#https://simpleitk.org/doxygen/latest/html/ImageRegistrationMethodBSpline3_2ImageRegistrationMethodBSpline3_8py-example.html\n",
    "#http://simpleitk.org/SimpleITK-Notebooks/01_Image_Basics.html\n",
    "\n",
    "import numpy as np\n",
    "import glob\n",
    "import pydicom\n",
    "import os\n",
    "from pycimg import CImg\n",
    "import nibabel as nib\n",
    "from scipy.interpolate import interpn\n",
    "from skimage.filters import gaussian\n",
    "import SimpleITK as sitk\n",
    "import sys"
   ]
  },
  {
   "cell_type": "code",
   "execution_count": 2,
   "id": "a9d29524-69b7-4700-a5c7-05268b59050d",
   "metadata": {},
   "outputs": [],
   "source": [
    "import platform"
   ]
  },
  {
   "cell_type": "code",
   "execution_count": 3,
   "id": "63bb23bb",
   "metadata": {},
   "outputs": [],
   "source": [
    "im1Name = './Data/T1_image_0007.nii.gz'\n",
    "im2Name = './Data/DWI_image_0006.nii.gz'"
   ]
  },
  {
   "cell_type": "code",
   "execution_count": 4,
   "id": "fe015d64",
   "metadata": {},
   "outputs": [],
   "source": [
    "def command_iteration(method):\n",
    "     print(f\"{method.GetOptimizerIteration():3} = {method.GetMetricValue():10.5f} : {method.GetOptimizerPosition()}\")\n",
    " "
   ]
  },
  {
   "cell_type": "code",
   "execution_count": 5,
   "id": "0a5684e0",
   "metadata": {},
   "outputs": [],
   "source": [
    "fixed = sitk.ReadImage(im1Name, sitk.sitkFloat32)   # to jest segmentacja \n",
    "fixed = sitk.DiscreteGaussian(fixed, 5.0)           # więc ją nieco rozmywam\n",
    "\n",
    "moving = sitk.ReadImage(im2Name, sitk.sitkFloat32)  # to też jest segmentacja \n",
    "moving = sitk.DiscreteGaussian(moving, 5.0)         # więc ją nieco rozmywam\n"
   ]
  },
  {
   "cell_type": "code",
   "execution_count": 6,
   "id": "2bc52eb1",
   "metadata": {},
   "outputs": [
    {
     "name": "stdout",
     "output_type": "stream",
     "text": [
      "-------\n",
      "itk::simple::Similarity3DTransform\n",
      " Similarity3DTransform (0x7f79807d81c0)\n",
      "   RTTI typeinfo:   itk::Similarity3DTransform<double>\n",
      "   Reference Count: 3\n",
      "   Modified Time: 3615\n",
      "   Debug: Off\n",
      "   Object Name: \n",
      "   Observers: \n",
      "     none\n",
      "   Matrix: \n",
      "     1.01018 -0.0580701 0.0299135 \n",
      "     0.0593329 1.0096 -0.0437702 \n",
      "     -0.0273232 0.0454323 1.0109 \n",
      "   Offset: [-26.6689, 15.255, 23.2961]\n",
      "   Center: [-143.584, -147.958, 138.598]\n",
      "   Translation: [-15.393, -0.751536, 22.0082]\n",
      "   Inverse: \n",
      "     0.985798 0.0579007 -0.0266636 \n",
      "     -0.0566684 0.985234 0.0443356 \n",
      "     0.0291914 -0.0427137 0.986502 \n",
      "   Singular: 0\n",
      "   Versor: [ 0.0220467, 0.0141462, 0.0290165, 0.999236 ]\n",
      "   Scale = 1.01229\n",
      "\n",
      "Optimizer stop condition: RegularStepGradientDescentOptimizerv4: Maximum number of iterations (125) exceeded.\n",
      " Iteration: 125\n",
      " Metric value: -0.9325150349911663\n"
     ]
    }
   ],
   "source": [
    "# Najpierw znajduję transformację afiniczną moving->fixed\n",
    "\n",
    "R = sitk.ImageRegistrationMethod()\n",
    "\n",
    "R.SetMetricAsCorrelation()\n",
    "R.SetOptimizerAsRegularStepGradientDescent(learningRate=2.1,\n",
    "                                        minStep=1e-5,\n",
    "                                        numberOfIterations=125,\n",
    "                                        gradientMagnitudeTolerance=1e-8)\n",
    "R.SetOptimizerScalesFromIndexShift()\n",
    "tx = sitk.CenteredTransformInitializer(fixed, moving,\n",
    "                                    sitk.Similarity3DTransform())\n",
    "R.SetInitialTransform(tx)\n",
    "R.SetInterpolator(sitk.sitkLinear)\n",
    "\n",
    "# to można odkomentować, żeby widzieć postęp\n",
    "# R.AddCommand(sitk.sitkIterationEvent, lambda: command_iteration(R))\n",
    "\n",
    "outTx = R.Execute(fixed, moving)\n",
    "\n",
    "# Aplikuję transformację do \"moving image\"\n",
    "\n",
    "print(\"-------\")\n",
    "print(outTx)\n",
    "print(f\"Optimizer stop condition: {R.GetOptimizerStopConditionDescription()}\")\n",
    "print(f\" Iteration: {R.GetOptimizerIteration()}\")\n",
    "print(f\" Metric value: {R.GetMetricValue()}\")\n",
    "\n",
    "#sitk.WriteTransform(outTx, 'transform.txt')\n",
    "#print(outTx)\n",
    "  \n",
    "resampler = sitk.ResampleImageFilter()\n",
    "resampler.SetReferenceImage(fixed)\n",
    "resampler.SetInterpolator(sitk.sitkLinear)\n",
    "resampler.SetDefaultPixelValue(0)\n",
    "resampler.SetTransform(outTx)\n",
    "\n",
    "# to wynik transformacji - obraz SimpleITK moving nałożony na obraz fixed\n",
    "out = resampler.Execute(moving)\n"
   ]
  },
  {
   "cell_type": "code",
   "execution_count": 7,
   "id": "c4da7298",
   "metadata": {},
   "outputs": [],
   "source": [
    "# A teraz znajduję transformację odwrotną\n",
    "inverse_transform = outTx.GetInverse()\n",
    "\n",
    "# i przekształcam wynik transformacji outTx transformacją do niej odwrotną - w teorii powinno to być przekształcenie identycznościowe\n",
    "movingFromInverse = sitk.Resample(out,moving,inverse_transform,sitk.sitkLinear,0,out.GetPixelID())\n"
   ]
  },
  {
   "cell_type": "code",
   "execution_count": 8,
   "id": "1b97c939",
   "metadata": {},
   "outputs": [
    {
     "name": "stdout",
     "output_type": "stream",
     "text": [
      "235073.4 6616.505\n"
     ]
    }
   ],
   "source": [
    "# przerabiam obrazki SimpleITK na macierze numpy\n",
    "fixedNP = sitk.GetArrayFromImage(fixed)\n",
    "movingNP = sitk.GetArrayFromImage(moving)\n",
    "outNP = sitk.GetArrayFromImage(out)\n",
    "movingFromInverseNP = sitk.GetArrayFromImage(movingFromInverse)\n",
    "\n",
    "# i sprawdzam, jak zadziałało przekształcenie \"identycznościowe\"\n",
    "print(np.sum(np.abs(movingNP-outNP)),np.sum(np.abs(movingNP-movingFromInverseNP)))\n",
    "\n",
    "if platform.system() != \"Darwin\":\n",
    "    CImg(fixedNP-outNP).display();\n",
    "    CImg(movingNP-outNP).display();\n",
    "    CImg(movingNP-movingFromInverseNP).display();"
   ]
  },
  {
   "cell_type": "code",
   "execution_count": 9,
   "id": "b0415d26",
   "metadata": {},
   "outputs": [
    {
     "name": "stdout",
     "output_type": "stream",
     "text": [
      "0.7884047908594654 0.801846208271481 0.028753029132587177 0.63050174400885 0.9247642197688857\n",
      "0.9654209507334406 0.9484000633144444 0.004605039327489723 0.25232551117481644 0.967684388534992\n"
     ]
    }
   ],
   "source": [
    "#metryki jakości nakładania\n",
    "\n",
    "from scipy.stats import spearmanr\n",
    "from scipy.stats import pearsonr\n",
    "import skimage\n",
    "\n",
    "array_a = np.ndarray.flatten(fixedNP)\n",
    "array_b = np.ndarray.flatten(movingNP)\n",
    "array_c = np.ndarray.flatten(outNP)\n",
    "\n",
    "print(pearsonr(array_a, array_b)[0],spearmanr(array_a, array_b).correlation,skimage.metrics.mean_squared_error(array_a, array_b),skimage.metrics.normalized_root_mse(array_a, array_b),skimage.metrics.structural_similarity(array_a, array_b, data_range=1))\n",
    "print(pearsonr(array_a, array_c)[0],spearmanr(array_a, array_c).correlation,skimage.metrics.mean_squared_error(array_a, array_c),skimage.metrics.normalized_root_mse(array_a, array_c),skimage.metrics.structural_similarity(array_a, array_c, data_range=1))"
   ]
  },
  {
   "cell_type": "code",
   "execution_count": 10,
   "id": "6f6026e2",
   "metadata": {},
   "outputs": [
    {
     "name": "stdout",
     "output_type": "stream",
     "text": [
      "Initial Parameters:\n",
      "(0.02204666960812845, 0.014146226201231219, 0.0290165298729771, -15.393034461800147, -0.7515361042713932, 22.008232396999613, 1.012291927277026)\n",
      "-------\n",
      "itk::simple::BSplineTransform\n",
      " BSplineTransform (0x7f7960ba3b80)\n",
      "   RTTI typeinfo:   itk::BSplineTransform<double, 3u, 3u>\n",
      "   Reference Count: 3\n",
      "   Modified Time: 4811\n",
      "   Debug: Off\n",
      "   Object Name: \n",
      "   Observers: \n",
      "     none\n",
      "   CoefficientImage: [ 0x7f7960eab220, 0x7f7960ef3d80, 0x7f7960ef4030 ]\n",
      "   TransformDomainOrigin: [-313.281, -398.281, -1.875]\n",
      "   TransformDomainPhysicalDimensions: [314.062, 399.062, 243.75]\n",
      "   TransformDomainDirection: 1 0 0\n",
      "0 1 0\n",
      "0 0 1\n",
      "\n",
      "   TransformDomainMeshSize: [2, 2, 2]\n",
      "   GridSize: [5, 5, 5]\n",
      "   GridOrigin: [-470.312, -597.812, -123.75]\n",
      "   GridSpacing: [157.031, 199.531, 121.875]\n",
      "   GridDirection: 1 0 0\n",
      "0 1 0\n",
      "0 0 1\n",
      "\n",
      "\n",
      "Optimizer stop condition: LBFGSBOptimizerv4: User requested\n",
      " Iteration: 100\n",
      " Metric value: -0.966839829188494\n"
     ]
    }
   ],
   "source": [
    "# W kolejnym kroku znajduję transformacje elastyczną outTx(moving)->fixed\n",
    "\n",
    "transformDomainMeshSize = [2] * moving.GetDimension()\n",
    "tx1 = sitk.BSplineTransformInitializer(fixed,transformDomainMeshSize)\n",
    "\n",
    "print(\"Initial Parameters:\")\n",
    "print(tx.GetParameters())\n",
    "\n",
    "R1 = sitk.ImageRegistrationMethod()\n",
    "R1.SetMetricAsCorrelation()\n",
    "\n",
    "R1.SetOptimizerAsLBFGSB(gradientConvergenceTolerance=1e-7,\n",
    "                    numberOfIterations=100,\n",
    "                    maximumNumberOfCorrections=15,\n",
    "                    maximumNumberOfFunctionEvaluations=1500,\n",
    "                    costFunctionConvergenceFactor=1e+7)\n",
    "R1.SetInitialTransform(tx1, True)\n",
    "R1.SetInterpolator(sitk.sitkLinear)\n",
    "\n",
    "# to można odkomentować, żeby widzieć postęp\n",
    "# R1.AddCommand(sitk.sitkIterationEvent, lambda: command_iteration(R1))\n",
    "\n",
    "outTx1 = R1.Execute(fixed, out)\n",
    "\n",
    "# Aplikuję transformację do outTx(moving)\n",
    "\n",
    "print(\"-------\")\n",
    "print(outTx1)\n",
    "print(f\"Optimizer stop condition: {R1.GetOptimizerStopConditionDescription()}\")\n",
    "print(f\" Iteration: {R1.GetOptimizerIteration()}\")\n",
    "print(f\" Metric value: {R1.GetMetricValue()}\")\n",
    "\n",
    "  \n",
    "resampler1 = sitk.ResampleImageFilter()\n",
    "resampler1.SetReferenceImage(fixed)\n",
    "resampler1.SetInterpolator(sitk.sitkLinear)\n",
    "resampler1.SetDefaultPixelValue(0)\n",
    "resampler1.SetTransform(outTx1)\n",
    "\n",
    "out1 = resampler1.Execute(out)\n"
   ]
  },
  {
   "cell_type": "code",
   "execution_count": 11,
   "id": "8596f118-fe65-415e-9e82-def0873df3e6",
   "metadata": {},
   "outputs": [
    {
     "name": "stdout",
     "output_type": "stream",
     "text": [
      "Initial Parameters:\n",
      "(0.02204666960812845, 0.014146226201231219, 0.0290165298729771, -15.393034461800147, -0.7515361042713932, 22.008232396999613, 1.012291927277026)\n",
      "-------\n",
      "itk::simple::BSplineTransform\n",
      " BSplineTransform (0x7f79707fb470)\n",
      "   RTTI typeinfo:   itk::BSplineTransform<double, 3u, 3u>\n",
      "   Reference Count: 3\n",
      "   Modified Time: 5949\n",
      "   Debug: Off\n",
      "   Object Name: \n",
      "   Observers: \n",
      "     none\n",
      "   CoefficientImage: [ 0x7f7970783000, 0x7f797110e930, 0x7f7960d36b40 ]\n",
      "   TransformDomainOrigin: [-313.281, -398.281, -1.875]\n",
      "   TransformDomainPhysicalDimensions: [314.062, 399.062, 243.75]\n",
      "   TransformDomainDirection: 1 0 0\n",
      "0 1 0\n",
      "0 0 1\n",
      "\n",
      "   TransformDomainMeshSize: [2, 2, 2]\n",
      "   GridSize: [5, 5, 5]\n",
      "   GridOrigin: [-470.312, -597.812, -123.75]\n",
      "   GridSpacing: [157.031, 199.531, 121.875]\n",
      "   GridDirection: 1 0 0\n",
      "0 1 0\n",
      "0 0 1\n",
      "\n",
      "\n",
      "Optimizer stop condition: LBFGSBOptimizerv4: User requested\n",
      " Iteration: 100\n",
      " Metric value: -0.966839829188494\n"
     ]
    }
   ],
   "source": [
    "# W kolejnym kroku znajduję transformacje elastyczną outTx(moving)->fixed\n",
    "\n",
    "transformDomainMeshSize = [2] * moving.GetDimension()\n",
    "tx1 = sitk.BSplineTransformInitializer(fixed,transformDomainMeshSize)\n",
    "\n",
    "print(\"Initial Parameters:\")\n",
    "print(tx.GetParameters())\n",
    "\n",
    "R1 = sitk.ImageRegistrationMethod()\n",
    "R1.SetMetricAsCorrelation()\n",
    "\n",
    "R1.SetOptimizerAsLBFGSB(gradientConvergenceTolerance=1e-7,\n",
    "                    numberOfIterations=100,\n",
    "                    maximumNumberOfCorrections=15,\n",
    "                    maximumNumberOfFunctionEvaluations=1500,\n",
    "                    costFunctionConvergenceFactor=1e+7)\n",
    "R1.SetInitialTransform(tx1, True)\n",
    "R1.SetInterpolator(sitk.sitkLinear)\n",
    "\n",
    "# to można odkomentować, żeby widzieć postęp\n",
    "#R1.AddCommand(sitk.sitkIterationEvent, lambda: command_iteration(R1))\n",
    "\n",
    "outTx1 = R1.Execute(fixed, out)\n",
    "\n",
    "# Aplikuję transformację do outTx(moving)\n",
    "\n",
    "print(\"-------\")\n",
    "print(outTx1)\n",
    "print(f\"Optimizer stop condition: {R1.GetOptimizerStopConditionDescription()}\")\n",
    "print(f\" Iteration: {R1.GetOptimizerIteration()}\")\n",
    "print(f\" Metric value: {R1.GetMetricValue()}\")\n",
    "\n",
    "  \n",
    "resampler1 = sitk.ResampleImageFilter()\n",
    "resampler1.SetReferenceImage(fixed)\n",
    "resampler1.SetInterpolator(sitk.sitkLinear)\n",
    "resampler1.SetDefaultPixelValue(0)\n",
    "resampler1.SetTransform(outTx1)\n",
    "\n",
    "out1 = resampler1.Execute(out)\n"
   ]
  },
  {
   "cell_type": "code",
   "execution_count": 12,
   "id": "651e71e6-955e-494c-8c55-d20fb80d8518",
   "metadata": {},
   "outputs": [
    {
     "name": "stdout",
     "output_type": "stream",
     "text": [
      "0.9654209507334406 0.9484000633144444 0.004605039327489723 0.25232551117481644 0.967684388534992\n",
      "0.9834066512323448 0.9429390752801076 0.002214648402367674 0.17498341326661293 0.9768175656971199\n",
      "241476.4 67252.59 43498.066\n"
     ]
    }
   ],
   "source": [
    "# Wizualizacja i miary jakości nakładania\n",
    "\n",
    "outNP1 = sitk.GetArrayFromImage(out1)\n",
    "array_d = np.ndarray.flatten(outNP1)\n",
    "\n",
    "print(pearsonr(array_a, array_c)[0],spearmanr(array_a, array_c).correlation,skimage.metrics.mean_squared_error(array_a, array_c),skimage.metrics.normalized_root_mse(array_a, array_c),skimage.metrics.structural_similarity(array_a, array_c, data_range=1))\n",
    "print(pearsonr(array_a, array_d)[0],spearmanr(array_a, array_d).correlation,skimage.metrics.mean_squared_error(array_a, array_d),skimage.metrics.normalized_root_mse(array_a, array_d),skimage.metrics.structural_similarity(array_a, array_d, data_range=1))\n",
    "print(np.sum(np.abs(fixedNP-movingNP)),np.sum(np.abs(fixedNP-outNP)),np.sum(np.abs(fixedNP-outNP1)))\n",
    "\n",
    "if platform.system() != \"Darwin\":\n",
    "    CImg(fixedNP-outNP).display();\n",
    "    CImg(fixedNP-outNP1).display();"
   ]
  },
  {
   "cell_type": "code",
   "execution_count": 13,
   "id": "fcb15c99",
   "metadata": {},
   "outputs": [],
   "source": [
    "try:\n",
    "    inverse_transform1 = outTx1.GetInverse()\n",
    "except:\n",
    "    fixed_image_new = out1  # Previously transformed image is now the fixed image\n",
    "    moving_image_new = moving  # Original moving image\n",
    "    \n",
    "    initial_transform = sitk.Transform(moving.GetDimension(), sitk.sitkIdentity)\n",
    "    \n",
    "    R2 = sitk.ImageRegistrationMethod()\n",
    "    R2.SetMetricAsCorrelation()\n",
    "    R2.SetOptimizerAsLBFGSB(gradientConvergenceTolerance=1e-7,\n",
    "                        numberOfIterations=100,\n",
    "                        maximumNumberOfCorrections=15,\n",
    "                        maximumNumberOfFunctionEvaluations=1500,\n",
    "                        costFunctionConvergenceFactor=1e+7)\n",
    "\n",
    "    R2.SetInitialTransform(initial_transform, True)\n",
    "    R2.SetInterpolator(sitk.sitkLinear)\n",
    "    \n",
    "    inverse_transform_approximation = R2.Execute(fixed_image_new, moving_image_new)\n",
    "    \n",
    "    resampler2 = sitk.ResampleImageFilter()\n",
    "    resampler2.SetReferenceImage(moving)\n",
    "    resampler2.SetInterpolator(sitk.sitkLinear)\n",
    "    resampler2.SetDefaultPixelValue(100)\n",
    "    resampler2.SetTransform(inverse_transform_approximation)\n",
    "    \n",
    "    inverse_transform1 = resampler2.Execute(out1)"
   ]
  },
  {
   "cell_type": "code",
   "execution_count": 14,
   "id": "fd8beb28-2e59-4051-aa23-7578639be984",
   "metadata": {},
   "outputs": [],
   "source": [
    "movingFromInverse = sitk.Resample(out1,moving,inverse_transform_approximation,sitk.sitkLinear,0,out.GetPixelID())"
   ]
  },
  {
   "cell_type": "code",
   "execution_count": 15,
   "id": "52a8a341-4cdf-47ed-ae08-e24b0d48af33",
   "metadata": {},
   "outputs": [
    {
     "name": "stdout",
     "output_type": "stream",
     "text": [
      "236708.03 236708.03\n"
     ]
    }
   ],
   "source": [
    "# przerabiam obrazki SimpleITK na macierze numpy\n",
    "fixedNP = sitk.GetArrayFromImage(fixed)\n",
    "movingNP = sitk.GetArrayFromImage(moving)\n",
    "outNP = sitk.GetArrayFromImage(out1)\n",
    "movingFromInverseNP = sitk.GetArrayFromImage(movingFromInverse)\n",
    "\n",
    "# i sprawdzam, jak zadziałało przekształcenie \"identycznościowe\"\n",
    "print(np.sum(np.abs(movingNP-outNP)),np.sum(np.abs(movingNP-movingFromInverseNP)))\n",
    "\n",
    "if platform.system() != \"Darwin\":\n",
    "    CImg(fixedNP-outNP).display();\n",
    "    CImg(movingNP-outNP).display();\n",
    "    CImg(movingNP-movingFromInverseNP).display();"
   ]
  },
  {
   "cell_type": "code",
   "execution_count": 20,
   "id": "2871d841-1902-40dc-ad93-511b1345fb75",
   "metadata": {},
   "outputs": [
    {
     "name": "stdout",
     "output_type": "stream",
     "text": [
      "0.9654209507334406 0.9484000633144444 0.004605039327489723 0.25232551117481644 0.967684388534992\n",
      "0.9834066512323448 0.9429390752801076 0.002214648402367674 0.17498341326661293 0.9768175656971199\n",
      "0.7964385769395373 0.7814083985505829 0.027778914167218473 0.6048992048886996 0.9243909232923498\n",
      "241476.4 43498.066 43498.066\n"
     ]
    }
   ],
   "source": [
    "# Wizualizacja i miary jakości nakładania\n",
    "\n",
    "outNP1 = sitk.GetArrayFromImage(movingFromInverse)\n",
    "array_e = np.ndarray.flatten(outNP1)\n",
    "\n",
    "print(pearsonr(array_a, array_c)[0],spearmanr(array_a, array_c).correlation,skimage.metrics.mean_squared_error(array_a, array_c),skimage.metrics.normalized_root_mse(array_a, array_c),skimage.metrics.structural_similarity(array_a, array_c, data_range=1))\n",
    "print(pearsonr(array_a, array_d)[0],spearmanr(array_a, array_d).correlation,skimage.metrics.mean_squared_error(array_a, array_d),skimage.metrics.normalized_root_mse(array_a, array_d),skimage.metrics.structural_similarity(array_a, array_d, data_range=1))\n",
    "print(pearsonr(array_b, array_e)[0],spearmanr(array_b, array_e).correlation,skimage.metrics.mean_squared_error(array_b, array_e),skimage.metrics.normalized_root_mse(array_b, array_e),skimage.metrics.structural_similarity(array_b, array_e, data_range=1))\n",
    "print(np.sum(np.abs(fixedNP-movingNP)),np.sum(np.abs(fixedNP-outNP)),np.sum(np.abs(fixedNP-outNP1)))\n",
    "\n",
    "if platform.system() != \"Darwin\":\n",
    "    CImg(fixedNP-outNP).display();\n",
    "    CImg(fixedNP-outNP1).display();\n"
   ]
  },
  {
   "cell_type": "code",
   "execution_count": null,
   "id": "0debf49e-8a78-47e7-80ad-df71f2fc52e0",
   "metadata": {},
   "outputs": [],
   "source": []
  },
  {
   "cell_type": "code",
   "execution_count": null,
   "id": "8e93fe1c",
   "metadata": {},
   "outputs": [],
   "source": [
    "#zapiszmy transformacje \n",
    "sitk.WriteTransform(outTx, 'transform.txt')\n",
    "sitk.WriteTransform(outTx1, 'transform1.txt')\n",
    "\n",
    "#przeczytajmy transformacje \n",
    "t1 = sitk.ReadTransform('transform.txt')\n",
    "t2 = sitk.ReadTransform('transform1.txt')\n",
    "\n",
    "#zaaplikujmy transformacje do obrazów\n",
    "im1 = sitk.Resample(moving,fixed,t1,sitk.sitkLinear,0,fixed.GetPixelID())\n",
    "im2 = sitk.Resample(im1,fixed,t2,sitk.sitkLinear,0,fixed.GetPixelID())\n",
    "\n",
    "#porównajmy wyniki działania transformacji wczytanych z plików  z wyliczeniami z komórek powyżej - obraz foo powinien być identyczny z obrazem outNP1\n",
    "foo = sitk.GetArrayFromImage(im2)\n",
    "\n",
    "if platform.system() != \"Darwin\":\n",
    "    CImg(outNP1 - foo).display();"
   ]
  },
  {
   "cell_type": "code",
   "execution_count": null,
   "id": "e75db79c-45a5-4dc4-b1c0-acbb1c3dd108",
   "metadata": {},
   "outputs": [],
   "source": [
    "#zaaplikujmy transformacje do oryginalnych obrazów\n",
    "fixed = sitk.ReadImage(im1Name, sitk.sitkFloat32)\n",
    "moving = sitk.ReadImage(im2Name, sitk.sitkFloat32)\n",
    "\n",
    "im1 = sitk.Resample(moving,fixed,t1,sitk.sitkLinear,0,fixed.GetPixelID())\n",
    "im2 = sitk.Resample(im1,fixed,t2,sitk.sitkLinear,0,fixed.GetPixelID())\n",
    "\n",
    "#porównajmy wyniki działania transformacji wczytanych z plików  z wyliczeniami z komórek powyżej - obraz foo powinien być identyczny z obrazem outNP1\n",
    "foo = sitk.GetArrayFromImage(im2)\n",
    "\n",
    "if platform.system() != \"Darwin\":\n",
    "    CImg(outNP1 - foo).display();"
   ]
  },
  {
   "cell_type": "code",
   "execution_count": null,
   "id": "4855140c-a3df-47b3-b9fb-da70eba7f6e7",
   "metadata": {},
   "outputs": [],
   "source": [
    "# Part 2"
   ]
  },
  {
   "cell_type": "code",
   "execution_count": 22,
   "id": "c06a2e7b-859d-43f9-83c7-a93488d3abcd",
   "metadata": {},
   "outputs": [],
   "source": [
    "import SimpleITK as sitk\n",
    "import utilities"
   ]
  },
  {
   "cell_type": "code",
   "execution_count": 23,
   "id": "66c717e6-2901-4d90-9f32-c9e6ee434887",
   "metadata": {},
   "outputs": [],
   "source": [
    "def smooth_and_resample(image, shrink_factor, smoothing_sigma):\n",
    "    \"\"\"\n",
    "    Args:\n",
    "        image: The image we want to resample.\n",
    "        shrink_factor: A number greater than one, such that the new image's size is original_size/shrink_factor.\n",
    "        smoothing_sigma: Sigma for Gaussian smoothing, this is in physical (image spacing) units, not pixels.\n",
    "    Return:\n",
    "        Image which is a result of smoothing the input and then resampling it using the given sigma and shrink factor.\n",
    "    \"\"\"\n",
    "    smoothed_image = sitk.SmoothingRecursiveGaussian(image, smoothing_sigma)\n",
    "\n",
    "    original_spacing = image.GetSpacing()\n",
    "    original_size = image.GetSize()\n",
    "    new_size = [int(sz / float(shrink_factor) + 0.5) for sz in original_size]\n",
    "    new_spacing = [\n",
    "        ((original_sz - 1) * original_spc) / (new_sz - 1)\n",
    "        for original_sz, original_spc, new_sz in zip(\n",
    "            original_size, original_spacing, new_size\n",
    "        )\n",
    "    ]\n",
    "    return sitk.Resample(\n",
    "        smoothed_image,\n",
    "        new_size,\n",
    "        sitk.Transform(),\n",
    "        sitk.sitkLinear,\n",
    "        image.GetOrigin(),\n",
    "        new_spacing,\n",
    "        image.GetDirection(),\n",
    "        0.0,\n",
    "        image.GetPixelID(),\n",
    "    )\n",
    "\n",
    "\n",
    "def multiscale_demons(\n",
    "    registration_algorithm,\n",
    "    fixed_image,\n",
    "    moving_image,\n",
    "    initial_transform=None,\n",
    "    shrink_factors=None,\n",
    "    smoothing_sigmas=None,\n",
    "):\n",
    "    \"\"\"\n",
    "    Run the given registration algorithm in a multiscale fashion. The original scale should not be given as input as the\n",
    "    original images are implicitly incorporated as the base of the pyramid.\n",
    "    Args:\n",
    "        registration_algorithm: Any registration algorithm that has an Execute(fixed_image, moving_image, displacement_field_image)\n",
    "                                method.\n",
    "        fixed_image: Resulting transformation maps points from this image's spatial domain to the moving image spatial domain.\n",
    "        moving_image: Resulting transformation maps points from the fixed_image's spatial domain to this image's spatial domain.\n",
    "        initial_transform: Any SimpleITK transform, used to initialize the displacement field.\n",
    "        shrink_factors: Shrink factors relative to the original image's size.\n",
    "        smoothing_sigmas: Amount of smoothing which is done prior to resmapling the image using the given shrink factor. These\n",
    "                          are in physical (image spacing) units.\n",
    "    Returns:\n",
    "        SimpleITK.DisplacementFieldTransform\n",
    "    \"\"\"\n",
    "    # Create image pyramid.\n",
    "    fixed_images = [fixed_image]\n",
    "    moving_images = [moving_image]\n",
    "    if shrink_factors:\n",
    "        for shrink_factor, smoothing_sigma in reversed(\n",
    "            list(zip(shrink_factors, smoothing_sigmas))\n",
    "        ):\n",
    "            fixed_images.append(\n",
    "                smooth_and_resample(fixed_images[0], shrink_factor, smoothing_sigma)\n",
    "            )\n",
    "            moving_images.append(\n",
    "                smooth_and_resample(moving_images[0], shrink_factor, smoothing_sigma)\n",
    "            )\n",
    "\n",
    "    # Create initial displacement field at lowest resolution.\n",
    "    # Currently, the pixel type is required to be sitkVectorFloat64 because of a constraint imposed by the Demons filters.\n",
    "    if initial_transform:\n",
    "        initial_displacement_field = sitk.TransformToDisplacementField(\n",
    "            initial_transform,\n",
    "            sitk.sitkVectorFloat64,\n",
    "            fixed_images[-1].GetSize(),\n",
    "            fixed_images[-1].GetOrigin(),\n",
    "            fixed_images[-1].GetSpacing(),\n",
    "            fixed_images[-1].GetDirection(),\n",
    "        )\n",
    "    else:\n",
    "        initial_displacement_field = sitk.Image(\n",
    "            fixed_images[-1].GetWidth(),\n",
    "            fixed_images[-1].GetHeight(),\n",
    "            fixed_images[-1].GetDepth(),\n",
    "            sitk.sitkVectorFloat64,\n",
    "        )\n",
    "        initial_displacement_field.CopyInformation(fixed_images[-1])\n",
    "\n",
    "    # Run the registration.\n",
    "    initial_displacement_field = registration_algorithm.Execute(\n",
    "        fixed_images[-1], moving_images[-1], initial_displacement_field\n",
    "    )\n",
    "    # Start at the top of the pyramid and work our way down.\n",
    "    for f_image, m_image in reversed(\n",
    "        list(zip(fixed_images[0:-1], moving_images[0:-1]))\n",
    "    ):\n",
    "        initial_displacement_field = sitk.Resample(initial_displacement_field, f_image)\n",
    "        initial_displacement_field = registration_algorithm.Execute(\n",
    "            f_image, m_image, initial_displacement_field\n",
    "        )\n",
    "    return sitk.DisplacementFieldTransform(initial_displacement_field)"
   ]
  },
  {
   "cell_type": "code",
   "execution_count": 24,
   "id": "5306e6b6-75df-44b5-b253-b278ea4f4f0c",
   "metadata": {},
   "outputs": [],
   "source": [
    "initial_mask = sitk.ReadImage('./Data/initial_mask.nii.gz', sitk.sitkFloat32)\n",
    "final_mask = sitk.ReadImage('./Data/final_mask.nii.gz', sitk.sitkFloat32)"
   ]
  },
  {
   "cell_type": "code",
   "execution_count": 25,
   "id": "e75cdec8-e6c8-4c63-89ca-ea182f5f7947",
   "metadata": {},
   "outputs": [
    {
     "data": {
      "text/plain": [
       "0"
      ]
     },
     "execution_count": 25,
     "metadata": {},
     "output_type": "execute_result"
    }
   ],
   "source": [
    "def iteration_callback(filter):\n",
    "    print(\n",
    "        \"\\r{0}: {1:.2f}\".format(filter.GetElapsedIterations(), filter.GetMetric()),\n",
    "        end=\"\",\n",
    "    )\n",
    "\n",
    "\n",
    "demons_filter = sitk.FastSymmetricForcesDemonsRegistrationFilter()\n",
    "demons_filter.SetNumberOfIterations(10)\n",
    "demons_filter.SetSmoothDisplacementField(True)\n",
    "demons_filter.SetStandardDeviations(2.0)\n",
    "\n",
    "demons_filter.AddCommand(\n",
    "    sitk.sitkIterationEvent, lambda: iteration_callback(demons_filter)\n",
    ")"
   ]
  },
  {
   "cell_type": "code",
   "execution_count": 26,
   "id": "fda42695-59db-4a05-ad6e-dd5a2fb9a3c8",
   "metadata": {},
   "outputs": [
    {
     "name": "stdout",
     "output_type": "stream",
     "text": [
      "10: 0.01"
     ]
    }
   ],
   "source": [
    "# Run the registration.\n",
    "tx = multiscale_demons(\n",
    "    registration_algorithm=demons_filter,\n",
    "    fixed_image=initial_mask,\n",
    "    moving_image=final_mask,\n",
    "    shrink_factors=[4, 2],\n",
    "    smoothing_sigmas=[8, 4],\n",
    ")"
   ]
  },
  {
   "cell_type": "code",
   "execution_count": 27,
   "id": "3ff4198c",
   "metadata": {
    "collapsed": false,
    "jupyter": {
     "outputs_hidden": false
    }
   },
   "outputs": [],
   "source": [
    "transformed_initial_mask = sitk.Resample(initial_mask, tx)"
   ]
  },
  {
   "cell_type": "code",
   "execution_count": 28,
   "id": "8f78ddc2",
   "metadata": {
    "collapsed": false,
    "jupyter": {
     "outputs_hidden": false
    }
   },
   "outputs": [],
   "source": [
    "try:\n",
    "    inverse_transform1 = tx.GetInverse()\n",
    "except:\n",
    "    fixed_image_new = initial_mask  # Previously transformed image is now the fixed image\n",
    "    moving_image_new = final_mask  # Original moving image\n",
    "\n",
    "    initial_transform = sitk.Transform(final_mask.GetDimension(), sitk.sitkIdentity)\n",
    "\n",
    "    R2 = sitk.ImageRegistrationMethod()\n",
    "    R2.SetMetricAsCorrelation()\n",
    "    R2.SetOptimizerAsLBFGSB(gradientConvergenceTolerance=1e-7,\n",
    "                        numberOfIterations=100,\n",
    "                        maximumNumberOfCorrections=15,\n",
    "                        maximumNumberOfFunctionEvaluations=1500,\n",
    "                        costFunctionConvergenceFactor=1e+7)\n",
    "\n",
    "    R2.SetInitialTransform(initial_transform, True)\n",
    "    R2.SetInterpolator(sitk.sitkLinear)\n",
    "\n",
    "    inverse_transform_approximation = R2.Execute(fixed_image_new, moving_image_new)\n",
    "\n",
    "    resampler2 = sitk.ResampleImageFilter()\n",
    "    resampler2.SetReferenceImage(final_mask)\n",
    "    resampler2.SetInterpolator(sitk.sitkLinear)\n",
    "    resampler2.SetDefaultPixelValue(100)\n",
    "    resampler2.SetTransform(inverse_transform_approximation)\n",
    "\n",
    "    inverse_transform1 = resampler2.Execute(transformed_initial_mask)\n"
   ]
  },
  {
   "cell_type": "code",
   "execution_count": 29,
   "id": "c14c5ec9",
   "metadata": {
    "collapsed": false,
    "jupyter": {
     "outputs_hidden": false
    }
   },
   "outputs": [],
   "source": [
    "transformed_2_mask = sitk.Resample(transformed_initial_mask, inverse_transform1)"
   ]
  },
  {
   "cell_type": "code",
   "execution_count": 30,
   "id": "9c60a530-e3d1-44f6-897d-42f8ddf7c0de",
   "metadata": {},
   "outputs": [
    {
     "name": "stdout",
     "output_type": "stream",
     "text": [
      "Pearson coefficient for initial mask and a mask transformed from initial mask to moving mask and then by an inverse transform:  0.9675844438007033\n"
     ]
    }
   ],
   "source": [
    "import numpy as np\n",
    "from scipy.stats import pearsonr\n",
    "import platform\n",
    "\n",
    "array_a = np.ndarray.flatten(sitk.GetArrayFromImage(initial_mask))\n",
    "\n",
    "outNP1 = sitk.GetArrayFromImage(transformed_initial_mask)\n",
    "array_b = np.ndarray.flatten(outNP1)\n",
    "\n",
    "pearson_coefficient, _ = pearsonr(array_a, array_b)\n",
    "print(\"Pearson coefficient for initial mask and a mask transformed from initial mask to moving mask and then by an inverse transform: \", pearson_coefficient)"
   ]
  },
  {
   "cell_type": "code",
   "execution_count": 31,
   "id": "65741b13-d5a3-4492-bb41-0b552f107948",
   "metadata": {},
   "outputs": [
    {
     "data": {
      "image/png": "[encoded data removed]",
      "text/plain": [
       "<Figure size 1000x500 with 2 Axes>"
      ]
     },
     "metadata": {},
     "output_type": "display_data"
    }
   ],
   "source": [
    "import matplotlib.pyplot as plt\n",
    "import SimpleITK as sitk\n",
    "import numpy as np\n",
    "\n",
    "ct = sitk.ReadImage(\"Data/ct.nii.gz\")\n",
    "\n",
    "transformed_ct = sitk.Resample(ct, tx)\n",
    "\n",
    "ct_array = sitk.GetArrayFromImage(ct)\n",
    "transformed_ct_array = sitk.GetArrayFromImage(transformed_ct)\n",
    "\n",
    "# Display the original and transformed images using matplotlib\n",
    "plt.figure(figsize=(10, 5))\n",
    "\n",
    "# Original CT image (Layer 1)\n",
    "plt.subplot(1, 2, 1)\n",
    "plt.imshow(ct_array[ct_array.shape[0] // 2, :, :], cmap=\"gray\")\n",
    "plt.title(\"Original CT Image\")\n",
    "plt.axis(\"off\")\n",
    "\n",
    "# Transformed CT image (Layer 2)\n",
    "plt.subplot(1, 2, 2)\n",
    "plt.imshow(transformed_ct_array[transformed_ct_array.shape[0] // 2, :, :], cmap=\"gray\")\n",
    "plt.title(\"Transformed CT Image\")\n",
    "plt.axis(\"off\")\n",
    "\n",
    "plt.show()"
   ]
  },
  {
   "cell_type": "code",
   "execution_count": null,
   "id": "ffe58566-7c92-4210-843c-64b946317b36",
   "metadata": {},
   "outputs": [],
   "source": []
  }
 ],
 "metadata": {
  "kernelspec": {
   "display_name": "Python 3 (ipykernel)",
   "language": "python",
   "name": "python3"
  },
  "language_info": {
   "codemirror_mode": {
    "name": "ipython",
    "version": 3
   },
   "file_extension": ".py",
   "mimetype": "text/x-python",
   "name": "python",
   "nbconvert_exporter": "python",
   "pygments_lexer": "ipython3",
   "version": "3.9.6"
  }
 },
 "nbformat": 4,
 "nbformat_minor": 5
}
